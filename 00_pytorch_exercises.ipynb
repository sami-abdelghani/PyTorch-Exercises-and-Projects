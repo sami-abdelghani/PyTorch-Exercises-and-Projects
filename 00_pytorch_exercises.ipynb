{
  "nbformat": 4,
  "nbformat_minor": 0,
  "metadata": {
    "colab": {
      "provenance": []
    },
    "kernelspec": {
      "name": "python3",
      "display_name": "Python 3"
    },
    "language_info": {
      "name": "python"
    }
  },
  "cells": [
    {
      "cell_type": "markdown",
      "source": [
        "## Exercises and Curriculum\n"
      ],
      "metadata": {
        "id": "0xFP1chOPEQL"
      }
    },
    {
      "cell_type": "code",
      "execution_count": 1,
      "metadata": {
        "id": "uG2AcMaIO5qH"
      },
      "outputs": [],
      "source": [
        "import torch"
      ]
    },
    {
      "cell_type": "markdown",
      "source": [
        "1. Documentation reading - A big part of deep learning (and learning to code in general) is getting familiar with the documentation of a certain framework you're using. We'll be using the PyTorch documentation a lot throughout the rest of this course. So I'd recommend spending 10-minutes reading the following (it's okay if you don't get some things for now, the focus is not yet full understanding, it's awareness). See the documentation on torch.Tensor and for torch.cuda."
      ],
      "metadata": {
        "id": "gAuRyD1pR0Hl"
      }
    },
    {
      "cell_type": "markdown",
      "source": [
        "https://pytorch.org/docs/stable/tensors.html#torch-tensor\n",
        "\n",
        "https://pytorch.org/docs/main/notes/cuda.html#cuda-semantics"
      ],
      "metadata": {
        "id": "j4yrjzlsSCMo"
      }
    },
    {
      "cell_type": "code",
      "source": [
        "# 2 Create a random tensor with shape (7, 7).\n",
        "\n",
        "tensor = torch.rand(7,7)\n",
        "tensor"
      ],
      "metadata": {
        "colab": {
          "base_uri": "https://localhost:8080/"
        },
        "id": "TRtm0StvPRKl",
        "outputId": "4eff5d97-5d03-423a-b980-6d9505c341bb"
      },
      "execution_count": 2,
      "outputs": [
        {
          "output_type": "execute_result",
          "data": {
            "text/plain": [
              "tensor([[0.2214, 0.1914, 0.7229, 0.1520, 0.4182, 0.3270, 0.1707],\n",
              "        [0.3094, 0.0610, 0.5102, 0.4491, 0.3518, 0.0394, 0.3949],\n",
              "        [0.3406, 0.7072, 0.3956, 0.0726, 0.1849, 0.6743, 0.0853],\n",
              "        [0.8312, 0.8666, 0.2493, 0.0791, 0.6580, 0.3969, 0.3639],\n",
              "        [0.2664, 0.7271, 0.3379, 0.0294, 0.7542, 0.5266, 0.1460],\n",
              "        [0.7246, 0.3192, 0.5003, 0.1917, 0.2283, 0.9850, 0.2630],\n",
              "        [0.8027, 0.2054, 0.9971, 0.7258, 0.8409, 0.2111, 0.9769]])"
            ]
          },
          "metadata": {},
          "execution_count": 2
        }
      ]
    },
    {
      "cell_type": "code",
      "source": [
        "# 3 Perform a matrix multiplication on the tensor from 2 with another random tensor\n",
        "# with shape (1, 7) (hint: you may have to transpose the second tensor).\n",
        "\n",
        "tensor2 = torch.rand(1,7)\n",
        "\n",
        "tensor2\n",
        "\n",
        "tensor3 = torch.matmul(tensor, tensor2.T)\n",
        "\n",
        "tensor2, tensor3, tensor3.shape"
      ],
      "metadata": {
        "colab": {
          "base_uri": "https://localhost:8080/"
        },
        "id": "F9cZK9iQUdVW",
        "outputId": "5fedb44e-53e9-4886-9925-abd13adbc5d2"
      },
      "execution_count": 6,
      "outputs": [
        {
          "output_type": "execute_result",
          "data": {
            "text/plain": [
              "(tensor([[0.2623, 0.3441, 0.8963, 0.5447, 0.1092, 0.4552, 0.0410]]),\n",
              " tensor([[1.0562],\n",
              "         [0.8766],\n",
              "         [1.0574],\n",
              "         [1.0502],\n",
              "         [0.9671],\n",
              "         [1.3369],\n",
              "         [1.7983]]),\n",
              " torch.Size([7, 1]))"
            ]
          },
          "metadata": {},
          "execution_count": 6
        }
      ]
    },
    {
      "cell_type": "code",
      "source": [
        "# 4 Set the random seed to 0 and do exercises 2 & 3 over again.\n",
        "\n",
        "torch.manual_seed(0)\n",
        "\n",
        "tensor = torch.rand(7,7)\n",
        "tensor2 = torch.rand(1,7)\n",
        "\n",
        "tensor3 = torch.matmul(tensor, tensor2.T)\n",
        "\n",
        "tensor2, tensor3, tensor3.shape"
      ],
      "metadata": {
        "colab": {
          "base_uri": "https://localhost:8080/"
        },
        "id": "kwDNTxmjWHr7",
        "outputId": "b3afcb74-a364-41e7-b9c3-c5a45b63313d"
      },
      "execution_count": 7,
      "outputs": [
        {
          "output_type": "execute_result",
          "data": {
            "text/plain": [
              "(tensor([[0.4820, 0.8198, 0.9971, 0.6984, 0.5675, 0.8352, 0.2056]]),\n",
              " tensor([[1.8542],\n",
              "         [1.9611],\n",
              "         [2.2884],\n",
              "         [3.0481],\n",
              "         [1.7067],\n",
              "         [2.5290],\n",
              "         [1.7989]]),\n",
              " torch.Size([7, 1]))"
            ]
          },
          "metadata": {},
          "execution_count": 7
        }
      ]
    },
    {
      "cell_type": "code",
      "source": [
        "# 5 Speaking of random seeds, we saw how to set it with torch.manual_seed()\n",
        "# but is there a GPU equivalent?\n",
        "# (hint: you'll need to look into the documentation for torch.cuda for this one).\n",
        "# If there is, set the GPU random seed to 1234.\n",
        "\n",
        "torch.cuda.manual_seed(1234)\n",
        "\n"
      ],
      "metadata": {
        "id": "JWJ_VhayXHej"
      },
      "execution_count": 8,
      "outputs": []
    },
    {
      "cell_type": "code",
      "source": [
        "# 6 Create two random tensors of shape (2, 3) and send them both\n",
        "# to the GPU (you'll need access to a GPU for this).\n",
        "# Set torch.manual_seed(1234) when creating the tensors\n",
        "# (this doesn't have to be the GPU random seed).\n",
        "\n",
        "torch.manual_seed(1234)\n",
        "\n",
        "device = \"cuda\" if torch.cuda.is_available() else \"cpu\"\n",
        "print(f\"Device: {device}\")\n",
        "\n",
        "tensor = torch.rand(2,3).to(device)\n",
        "tensor2 = torch.rand(2,3).to(device)\n",
        "tensor, tensor2"
      ],
      "metadata": {
        "colab": {
          "base_uri": "https://localhost:8080/"
        },
        "id": "u3ZETLtoXx6r",
        "outputId": "9bc5c5d2-e7b3-4a5f-edf8-2bd01d8b1b22"
      },
      "execution_count": 9,
      "outputs": [
        {
          "output_type": "stream",
          "name": "stdout",
          "text": [
            "Device: cpu\n"
          ]
        },
        {
          "output_type": "execute_result",
          "data": {
            "text/plain": [
              "(tensor([[0.0290, 0.4019, 0.2598],\n",
              "         [0.3666, 0.0583, 0.7006]]),\n",
              " tensor([[0.0518, 0.4681, 0.6738],\n",
              "         [0.3315, 0.7837, 0.5631]]))"
            ]
          },
          "metadata": {},
          "execution_count": 9
        }
      ]
    },
    {
      "cell_type": "code",
      "source": [
        "# 7 Perform a matrix multiplication on the tensors you created\n",
        "# in 6 (again, you may have to adjust the shapes of one of the tensors).\n",
        "\n",
        "tensor3 = torch.matmul(tensor, tensor2.T)\n",
        "tensor3, tensor3.shape\n"
      ],
      "metadata": {
        "colab": {
          "base_uri": "https://localhost:8080/"
        },
        "id": "LWbnX1v7ecTa",
        "outputId": "5da65c2d-e592-45d3-8c11-20c70541a1bf"
      },
      "execution_count": 10,
      "outputs": [
        {
          "output_type": "execute_result",
          "data": {
            "text/plain": [
              "(tensor([[0.3647, 0.4709],\n",
              "         [0.5184, 0.5617]]),\n",
              " torch.Size([2, 2]))"
            ]
          },
          "metadata": {},
          "execution_count": 10
        }
      ]
    },
    {
      "cell_type": "code",
      "source": [
        "# 8 Find the maximum and minimum values of the output of 7.\n",
        "\n",
        "tensor3.max(), tensor3.min()"
      ],
      "metadata": {
        "colab": {
          "base_uri": "https://localhost:8080/"
        },
        "id": "AcFKsbgdfEV5",
        "outputId": "5fd1e1b9-0d48-484e-d43b-47c896ac9444"
      },
      "execution_count": 11,
      "outputs": [
        {
          "output_type": "execute_result",
          "data": {
            "text/plain": [
              "(tensor(0.5617), tensor(0.3647))"
            ]
          },
          "metadata": {},
          "execution_count": 11
        }
      ]
    },
    {
      "cell_type": "code",
      "source": [
        "# 9 Find the maximum and minimum index values of the output of 7.\n",
        "\n",
        "tensor3.argmax(), tensor3.argmin()"
      ],
      "metadata": {
        "colab": {
          "base_uri": "https://localhost:8080/"
        },
        "id": "0wW5wPMIfwCB",
        "outputId": "9ba0e6ac-d7bc-4f4a-edec-d25a10259114"
      },
      "execution_count": 12,
      "outputs": [
        {
          "output_type": "execute_result",
          "data": {
            "text/plain": [
              "(tensor(3), tensor(0))"
            ]
          },
          "metadata": {},
          "execution_count": 12
        }
      ]
    },
    {
      "cell_type": "markdown",
      "source": [
        "10. Make a random tensor with shape (1, 1, 1, 10) and then create a new tensor with all the 1 dimensions removed to be left with a tensor of shape (10). Set the seed to 7 when you create it and print out the first tensor and it's shape as well as the second tensor and it's shape."
      ],
      "metadata": {
        "id": "AG6JByVGjPun"
      }
    },
    {
      "cell_type": "code",
      "source": [
        "torch.manual_seed(7)\n",
        "\n",
        "tensor = torch.rand(1,1,1,10)\n",
        "\n",
        "\n",
        "tensor2 = tensor.squeeze()\n",
        "\n",
        "tensor, tensor.shape, tensor2, tensor2.shape\n"
      ],
      "metadata": {
        "colab": {
          "base_uri": "https://localhost:8080/"
        },
        "id": "YaDDgsdLi5iJ",
        "outputId": "0aa72fa0-3cbe-4e80-d621-69263e530b7e"
      },
      "execution_count": 15,
      "outputs": [
        {
          "output_type": "execute_result",
          "data": {
            "text/plain": [
              "(tensor([[[[0.5349, 0.1988, 0.6592, 0.6569, 0.2328, 0.4251, 0.2071, 0.6297,\n",
              "            0.3653, 0.8513]]]]),\n",
              " torch.Size([1, 1, 1, 10]),\n",
              " tensor([0.5349, 0.1988, 0.6592, 0.6569, 0.2328, 0.4251, 0.2071, 0.6297, 0.3653,\n",
              "         0.8513]),\n",
              " torch.Size([10]))"
            ]
          },
          "metadata": {},
          "execution_count": 15
        }
      ]
    },
    {
      "cell_type": "code",
      "source": [],
      "metadata": {
        "id": "bKIqc6DGkQzS"
      },
      "execution_count": null,
      "outputs": []
    }
  ]
}